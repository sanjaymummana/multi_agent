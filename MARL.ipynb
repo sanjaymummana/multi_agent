{
  "nbformat": 4,
  "nbformat_minor": 0,
  "metadata": {
    "colab": {
      "provenance": []
    },
    "kernelspec": {
      "name": "python3",
      "display_name": "Python 3"
    },
    "language_info": {
      "name": "python"
    }
  },
  "cells": [
    {
      "cell_type": "markdown",
      "source": [
        "Step-by-Step Guide\n",
        "\n",
        "Step 1: Prepare Your Code Structure\n",
        "\n",
        "1)Open Google Colab: Go to Google Colab and create a new notebook.\n",
        "\n",
        "2)Create Directory Structure: In your Colab notebook, you can simulate the directory structure using Python commands. This structure includes:\n"
      ],
      "metadata": {
        "id": "5nbXFihiSp-B"
      }
    },
    {
      "cell_type": "code",
      "source": [
        "# Create directory structure\n",
        "!mkdir -p multi_agent_marl\n",
        "!touch multi_agent_marl/__init__.py\n",
        "!touch multi_agent_marl/hyperparameter_agent.py\n",
        "!touch multi_agent_marl/multi_agent_hyperparameter_optimization.py\n",
        "!touch setup.py"
      ],
      "metadata": {
        "id": "g1js5CZ5SgZj"
      },
      "execution_count": null,
      "outputs": []
    },
    {
      "cell_type": "markdown",
      "source": [
        "3)Write hyperparameter_agent.py: Define the HyperparameterAgent class in hyperparameter_agent.py:"
      ],
      "metadata": {
        "id": "wQxtHXA7TGR9"
      }
    },
    {
      "cell_type": "code",
      "source": [
        "import numpy as np\n",
        "\n",
        "class HyperparameterAgent:\n",
        "    def __init__(self, param_grid, learning_rate=0.1, discount_factor=0.9, epsilon=0.1):\n",
        "        self.param_grid = param_grid\n",
        "        self.learning_rate = learning_rate\n",
        "        self.discount_factor = discount_factor\n",
        "        self.epsilon = epsilon\n",
        "        self.q_values = {}\n",
        "        self.best_params = None\n",
        "        self.best_score = -np.inf\n",
        "\n",
        "    def choose_action(self, state):\n",
        "        if np.random.rand() < self.epsilon:\n",
        "            return np.random.choice(len(self.param_grid))\n",
        "        else:\n",
        "            if state in self.q_values:\n",
        "                return np.argmax(self.q_values[state])\n",
        "            else:\n",
        "                return np.random.choice(len(self.param_grid))\n",
        "\n",
        "    def update_q_value(self, state, action, reward, next_state):\n",
        "        if state not in self.q_values:\n",
        "            self.q_values[state] = np.zeros(len(self.param_grid))\n",
        "        if next_state not in self.q_values:\n",
        "            self.q_values[next_state] = np.zeros(len(self.param_grid))\n",
        "        self.q_values[state][action] += self.learning_rate * (\n",
        "            reward + self.discount_factor * np.max(self.q_values[next_state]) - self.q_values[state][action])\n",
        "        if reward > self.best_score:\n",
        "            self.best_score = reward\n",
        "            self.best_params = self.param_grid[action]\n"
      ],
      "metadata": {
        "id": "g2QIUwaQTMUS"
      },
      "execution_count": null,
      "outputs": []
    },
    {
      "cell_type": "markdown",
      "source": [
        "4) Write multi_agent_hyperparameter_optimization.py: Define the MultiAgentHyperparameterOptimization class in multi_agent_hyperparameter_optimization.py:"
      ],
      "metadata": {
        "id": "OSPx3q7zTSrq"
      }
    },
    {
      "cell_type": "code",
      "source": [
        "import numpy as np\n",
        "from sklearn.model_selection import KFold\n",
        "from sklearn.base import clone\n",
        "from sklearn.metrics import accuracy_score\n",
        "from .hyperparameter_agent import HyperparameterAgent\n",
        "\n",
        "class MultiAgentHyperparameterOptimization:\n",
        "    def __init__(self, model, param_grid, num_agents, epsilon_values=None):\n",
        "        self.model = model\n",
        "        self.param_grid = param_grid\n",
        "        self.num_agents = num_agents\n",
        "        self.agents = [HyperparameterAgent(param_grid, epsilon=epsilon_values[i] if epsilon_values else 0.1) for i in range(num_agents)]\n",
        "\n",
        "    def train_agents(self, X, y, kf):\n",
        "        for fold, (train_index, test_index) in enumerate(kf.split(X)):\n",
        "            X_train, X_test = X[train_index], X[test_index]\n",
        "            y_train, y_test = y[train_index], y[test_index]\n",
        "\n",
        "            for agent_id, agent in enumerate(self.agents):\n",
        "                state = fold  # Example state, can be more sophisticated\n",
        "                action = agent.choose_action(state)\n",
        "                params = agent.param_grid[action]\n",
        "\n",
        "                # Clone the model to reset it for each training session\n",
        "                model = clone(self.model)\n",
        "                model.set_params(**params)\n",
        "\n",
        "                # Model training\n",
        "                model.fit(X_train, y_train)\n",
        "\n",
        "                # Model evaluation\n",
        "                y_test_pred = model.predict(X_test)\n",
        "                test_accuracy = accuracy_score(y_test, y_test_pred)\n",
        "\n",
        "                # Use test accuracy as reward\n",
        "                reward = test_accuracy\n",
        "\n",
        "                # Update agent's Q-values\n",
        "                next_state = fold + 1  # Example next state\n",
        "                agent.update_q_value(state, action, reward, next_state)\n",
        "\n",
        "                # Print accuracy for each agent\n",
        "                print(f\"Agent {agent_id + 1} - Fold {fold + 1} - Params: {params} - Test Accuracy: {test_accuracy:.4f}\")\n",
        "\n",
        "        # Print best hyperparameters for each agent\n",
        "        for agent_id, agent in enumerate(self.agents):\n",
        "            print(f\"Agent {agent_id + 1} - Best Params: {agent.best_params} - Best Score: {agent.best_score:.4f}\")\n"
      ],
      "metadata": {
        "id": "hdwnPMEpTYAi"
      },
      "execution_count": null,
      "outputs": []
    },
    {
      "cell_type": "markdown",
      "source": [
        "5) Write setup.py: Create setup.py for packaging your module:"
      ],
      "metadata": {
        "id": "qoODzd7BTag7"
      }
    },
    {
      "cell_type": "code",
      "source": [
        "# setup.py\n",
        "\n",
        "from setuptools import setup, find_packages\n",
        "\n",
        "setup(\n",
        "    name='multi_agent_marl',\n",
        "    version='0.1',\n",
        "    packages=find_packages(),\n",
        "    install_requires=[\n",
        "        'numpy',\n",
        "        'pandas',\n",
        "        'scikit-learn',\n",
        "        'imbalanced-learn'\n",
        "    ],\n",
        "    entry_points={\n",
        "        'console_scripts': [\n",
        "            'multi_agent_marl=multi_agent_marl.multi_agent_lr_marl:main'\n",
        "        ]\n",
        "    }\n",
        ")\n"
      ],
      "metadata": {
        "id": "_1xOyMauTfqs"
      },
      "execution_count": null,
      "outputs": []
    },
    {
      "cell_type": "markdown",
      "source": [
        "Step 2: Install Required Packages\n",
        "\n",
        "In your Colab notebook, install the required packages:"
      ],
      "metadata": {
        "id": "dmcEdnsQThfU"
      }
    },
    {
      "cell_type": "code",
      "source": [
        "!pip install numpy pandas scikit-learn imbalanced-learn\n"
      ],
      "metadata": {
        "id": "v9jhnOfZTtBD"
      },
      "execution_count": null,
      "outputs": []
    },
    {
      "cell_type": "markdown",
      "source": [
        "Step 3: Install Module\n",
        "\n",
        "Run the following command in your Colab notebook to install your custom module:"
      ],
      "metadata": {
        "id": "kN0gexJ1T4gt"
      }
    },
    {
      "cell_type": "code",
      "source": [
        " !pip install .\n"
      ],
      "metadata": {
        "id": "1uoJSaYgT8uw"
      },
      "execution_count": null,
      "outputs": []
    },
    {
      "cell_type": "markdown",
      "source": [
        "Step 4: Use Module\n",
        "Now, you can use multi_agent_marl module in your Colab notebook as following example:"
      ],
      "metadata": {
        "id": "olQu2eQcT_J9"
      }
    },
    {
      "cell_type": "code",
      "source": [
        "from multi_agent_marl.multi_agent_hyperparameter_optimization import MultiAgentHyperparameterOptimization\n",
        "from sklearn.ensemble import RandomForestClassifier\n",
        "from sklearn.model_selection import KFold\n",
        "from sklearn.preprocessing import StandardScaler\n",
        "from sklearn.impute import SimpleImputer\n",
        "from imblearn.over_sampling import SMOTE\n",
        "import pandas as pd\n",
        "import numpy as np\n",
        "\n",
        "if __name__ == \"__main__\":\n",
        "    # List of file paths\n",
        "    file_paths = [\n",
        "        '/content/Syn.csv', '/content/Syn_2019_1-12.csv'\n",
        "    ]\n",
        "\n",
        "    # Initialize an empty list to store dataframes\n",
        "    dataframes = []\n",
        "\n",
        "    # Read each CSV file and append to the list\n",
        "    for file_path in file_paths:\n",
        "        df = pd.read_csv(file_path)\n",
        "        dataframes.append(df)\n",
        "\n",
        "    # Concatenate all dataframes into one\n",
        "    combined_data = pd.concat(dataframes, ignore_index=True)\n",
        "\n",
        "    # Transform 'Label' column: keep 'Syn' as 1, 'BENIGN' as 0, and drop the rest\n",
        "    combined_data = combined_data[combined_data[' Label'].isin(['Syn', 'BENIGN'])]\n",
        "    combined_data[' Label'] = combined_data[' Label'].map(lambda x: 1 if x == 'Syn' else 0)\n",
        "\n",
        "    # Check for duplicates and drop them\n",
        "    combined_data = combined_data.drop_duplicates()\n",
        "\n",
        "    # Split data into features and target variable\n",
        "    X = combined_data.drop(' Label', axis=1)\n",
        "    y = combined_data[' Label']\n",
        "\n",
        "    # Convert non-numeric columns to numeric\n",
        "    X_numeric = X.apply(pd.to_numeric, errors='coerce')\n",
        "\n",
        "    # Replace infinite values with NaNs\n",
        "    X_numeric.replace([np.inf, -np.inf], np.nan, inplace=True)\n",
        "\n",
        "    # Handle missing values by imputing with the mean\n",
        "    imputer = SimpleImputer(strategy='mean')\n",
        "    X_imputed = imputer.fit_transform(X_numeric)\n",
        "\n",
        "    # Feature Scaling\n",
        "    scaler = StandardScaler()\n",
        "    X_scaled = scaler.fit_transform(X_imputed)\n",
        "\n",
        "    # Transform label column\n",
        "    y_transformed = y.astype(int)\n",
        "\n",
        "    # Use SMOTE to handle class imbalance\n",
        "    smote = SMOTE(random_state=42, k_neighbors=1)  # Adjust k_neighbors parameter\n",
        "    X_resampled, y_resampled = smote.fit_resample(X_scaled, y_transformed)\n",
        "\n",
        "    # K-Fold Cross-Validation with 5 folds\n",
        "    kf = KFold(n_splits=5, shuffle=True, random_state=42)\n",
        "\n",
        "    # Parameter grid for RandomForestClassifier\n",
        "    param_grid = [{'n_estimators': n} for n in [10, 50, 100]]\n",
        "\n",
        "    # Initialize Multi-Agent Hyperparameter Optimization\n",
        "    num_agents = 3\n",
        "    epsilon_values = [0.1, 0.2, 0.3]\n",
        "    optimizer = MultiAgentHyperparameterOptimization(RandomForestClassifier(random_state=42), param_grid, num_agents, epsilon_values)\n",
        "\n",
        "    # Train agents to find the best hyperparameters\n",
        "    optimizer.train_agents(X_resampled, y_resampled, kf)\n"
      ],
      "metadata": {
        "id": "NpMMNvkmUHoJ"
      },
      "execution_count": null,
      "outputs": []
    }
  ]
}